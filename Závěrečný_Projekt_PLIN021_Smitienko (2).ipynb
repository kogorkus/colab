{
  "nbformat": 4,
  "nbformat_minor": 0,
  "metadata": {
    "colab": {
      "provenance": [],
      "collapsed_sections": [
        "NYy1uJCbqKCa"
      ]
    },
    "kernelspec": {
      "name": "python3",
      "display_name": "Python 3"
    },
    "language_info": {
      "name": "python"
    }
  },
  "cells": [
    {
      "cell_type": "markdown",
      "source": [
        "# Úvod\n",
        "\n",
        "V této práci jsem realizoval implementaci knihovny Gensim a technologie vektorové reprezentace sémantiky slov (model word2vec) pro sémantické vyhledávání v korpusu české poezie od projektu VersoTym.\n",
        "\n",
        "Na začátku je sekce \"Ukázka\" demonstrující realizaci algoritmu. V následujících sekcích popisuji kroky přípravy daného programu, optimizační návrhy a další zajímavé příklady vyhledávání."
      ],
      "metadata": {
        "id": "yywch71VRLo-"
      }
    },
    {
      "cell_type": "markdown",
      "source": [
        "## Ukázka"
      ],
      "metadata": {
        "id": "vXL0vFNQRF6_"
      }
    },
    {
      "cell_type": "markdown",
      "source": [
        "Aby všechno správně fungovalo, je třeba zkopírovat na svůj Google Disk složku Word2Vec dostupnou z odkazu:\n",
        "https://drive.google.com/drive/folders/16NvmmxnqfISLNCFVD142u9fm5hEDfPbW?usp=sharing\n",
        "\n",
        "Složka obsahuje vektorový model češtiny a databázi českých básní. Soubory jsou poměrně velké (dohromady cca 10Gb), proto se s nimi snáze pracuje v Colabu přímo z Google Disku bez nutnosti je stahovat na svůj počítač."
      ],
      "metadata": {
        "id": "4HAX7khE6j33"
      }
    },
    {
      "cell_type": "code",
      "execution_count": null,
      "metadata": {
        "id": "874P9-iJ3UeF",
        "colab": {
          "base_uri": "https://localhost:8080/"
        },
        "outputId": "db71a26f-ae71-4388-abb9-03b29dfc3a38"
      },
      "outputs": [
        {
          "output_type": "stream",
          "name": "stdout",
          "text": [
            "Mounted at /content/drive/\n",
            "Looking in indexes: https://pypi.org/simple, https://us-python.pkg.dev/colab-wheels/public/simple/\n",
            "Requirement already satisfied: gensim in /usr/local/lib/python3.8/dist-packages (3.6.0)\n",
            "Requirement already satisfied: six>=1.5.0 in /usr/local/lib/python3.8/dist-packages (from gensim) (1.15.0)\n",
            "Requirement already satisfied: numpy>=1.11.3 in /usr/local/lib/python3.8/dist-packages (from gensim) (1.21.6)\n",
            "Requirement already satisfied: smart-open>=1.2.1 in /usr/local/lib/python3.8/dist-packages (from gensim) (6.3.0)\n",
            "Requirement already satisfied: scipy>=0.18.1 in /usr/local/lib/python3.8/dist-packages (from gensim) (1.7.3)\n",
            "Looking in indexes: https://pypi.org/simple, https://us-python.pkg.dev/colab-wheels/public/simple/\n",
            "Collecting zarr\n",
            "  Downloading zarr-2.13.6-py3-none-any.whl (193 kB)\n",
            "\u001b[2K     \u001b[90m━━━━━━━━━━━━━━━━━━━━━━━━━━━━━━━━━━━━━━━\u001b[0m \u001b[32m193.0/193.0 KB\u001b[0m \u001b[31m5.7 MB/s\u001b[0m eta \u001b[36m0:00:00\u001b[0m\n",
            "\u001b[?25hRequirement already satisfied: numpy>=1.20 in /usr/local/lib/python3.8/dist-packages (from zarr) (1.21.6)\n",
            "Collecting asciitree\n",
            "  Downloading asciitree-0.3.3.tar.gz (4.0 kB)\n",
            "  Preparing metadata (setup.py) ... \u001b[?25l\u001b[?25hdone\n",
            "Collecting fasteners\n",
            "  Downloading fasteners-0.18-py3-none-any.whl (18 kB)\n",
            "Collecting numcodecs>=0.10.0\n",
            "  Downloading numcodecs-0.11.0-cp38-cp38-manylinux_2_17_x86_64.manylinux2014_x86_64.whl (6.7 MB)\n",
            "\u001b[2K     \u001b[90m━━━━━━━━━━━━━━━━━━━━━━━━━━━━━━━━━━━━━━━━\u001b[0m \u001b[32m6.7/6.7 MB\u001b[0m \u001b[31m64.1 MB/s\u001b[0m eta \u001b[36m0:00:00\u001b[0m\n",
            "\u001b[?25hRequirement already satisfied: entrypoints in /usr/local/lib/python3.8/dist-packages (from numcodecs>=0.10.0->zarr) (0.4)\n",
            "Building wheels for collected packages: asciitree\n",
            "  Building wheel for asciitree (setup.py) ... \u001b[?25l\u001b[?25hdone\n",
            "  Created wheel for asciitree: filename=asciitree-0.3.3-py3-none-any.whl size=5050 sha256=9dbb644af8dd60b0a700eb45b92971cd5a223b5a252450a70d28f6f197e88754\n",
            "  Stored in directory: /root/.cache/pip/wheels/a3/d7/75/19cd0d2a893cad4bb0b2b16dd572ad2916d19c0d5ee9612511\n",
            "Successfully built asciitree\n",
            "Installing collected packages: asciitree, numcodecs, fasteners, zarr\n",
            "Successfully installed asciitree-0.3.3 fasteners-0.18 numcodecs-0.11.0 zarr-2.13.6\n"
          ]
        }
      ],
      "source": [
        "# vsechny potrebne knihovny \n",
        "\n",
        "from google.colab import drive\n",
        "drive.mount('/content/drive/', force_remount=True)\n",
        "\n",
        "!pip install gensim\n",
        "from gensim.models import KeyedVectors\n",
        "from gensim import models\n",
        "from gensim.models import Word2Vec\n",
        "\n",
        "!pip install zarr\n",
        "import zarr\n",
        "\n",
        "import numpy as np"
      ]
    },
    {
      "cell_type": "markdown",
      "source": [
        "### Kód\n",
        "\n",
        "Tuto buňku stačí jenom spustit, aby vyhledávání fungovalo. Podrobný popis toho, jak funguje každá funkce jsem uvedl v sekci \"Příprava práce\"."
      ],
      "metadata": {
        "id": "2m3xc0goEzr2"
      }
    },
    {
      "cell_type": "code",
      "source": [
        "print('loading model...')\n",
        "model = KeyedVectors.load(\"drive/MyDrive/Word2Vec/cswiki-latest-pages-articles.word2vec\", mmap='r')\n",
        "\n",
        "print('loading database...')\n",
        "store = zarr.DBMStore('drive/MyDrive/Word2Vec/database')\n",
        "database = zarr.open(store=store, mode='r')\n",
        "db_list = database[:100000]\n",
        "\n",
        "print('loading functions...')\n",
        "def bag_to_matrix(bag):\n",
        "        mx = []\n",
        "        for i in range(len(bag)):\n",
        "            try:\n",
        "                mx.append(model.wv[bag[i]])\n",
        "            except:\n",
        "                pass\n",
        "        return np.vstack(mx) if len(mx) > 0 else np.array([])\n",
        "\n",
        "\n",
        "def semantic_similarity_fast_log(mx1, mx2):\n",
        "        if mx1.size > 0 and mx2.size > 0:\n",
        "            return np.sum(np.matmul(mx1, mx2.T)) * np.log10(mx2.size) / (mx2.size + mx1.size)\n",
        "        else:\n",
        "            return 0.0\n",
        "\n",
        "\n",
        "def print_results(result):\n",
        "    newlist = sorted(result, key=lambda d: d['score'], reverse=True) \n",
        "    for index, block in enumerate(newlist):\n",
        "        if index == 10:\n",
        "            break\n",
        "        print(block['author_name'])\n",
        "        print(block['poem_name'], ',', block['date'], '\\n')\n",
        "        print(block['text'])\n",
        "        print('\\n')\n",
        "        print('score:', block['score'], '\\n')\n",
        "        print('-'*30)\n",
        "\n",
        "\n",
        "def search_in_poems(search, blocks):\n",
        "    search_list = search.split()\n",
        "    result = []\n",
        "    for block in blocks:\n",
        "        result.append({'text': block['text'], \n",
        "                    'author_name': block['author_name'], \n",
        "                    'poem_name': block['poem_name'], \n",
        "                    'date': block['date'], \n",
        "                    'score': semantic_similarity_fast_log(bag_to_matrix(search_list), \n",
        "                                                            block['matrix'])})\n",
        "    print_results(result)\n",
        "\n",
        "print('Ready!')"
      ],
      "metadata": {
        "colab": {
          "base_uri": "https://localhost:8080/"
        },
        "id": "6OUTdm7Z7jZU",
        "outputId": "6dbb5b4a-811e-4d75-b1e8-dad4ceedff23"
      },
      "execution_count": null,
      "outputs": [
        {
          "output_type": "stream",
          "name": "stdout",
          "text": [
            "loading model...\n",
            "loading database...\n",
            "loading functions...\n",
            "Ready!\n"
          ]
        }
      ]
    },
    {
      "cell_type": "markdown",
      "source": [
        "### Vyhledávání\n",
        "\n",
        "Pomocí funkce *search_in_poems* lze vyhledat sloky, které nejvíce odpovídají hledanému výrazu. Zobrazují se 10 s nejlepší shodou. Hledaný výraz může být i víceslovný.\n",
        "\n",
        "Při prvním spuštění funkce může fungovat pomalu. Běžně však analýza 100 tisíc slok přímo z databáze s zadaným jednoslovným výrazem trvá cca 10-15 sekund.\n"
      ],
      "metadata": {
        "id": "SmVB3R-TSBV-"
      }
    },
    {
      "cell_type": "markdown",
      "source": [
        "Níže jsem uvedl příklad vyhledávání výrazu *\\\"pendolino\"*. Je vidět, že program zcela správně vypsal sloky, v nichž jde o *vlacích, nádraží, případně jízdě*. Ačkoliv výraz *\\\"pendolino\"* se pochopitelně nevyskytuje v básních přímo, algoritmus vyhledal sémanticky související s tímto výrazem sloky."
      ],
      "metadata": {
        "id": "sFwb86VWnwCY"
      }
    },
    {
      "cell_type": "code",
      "source": [
        "search_in_poems('pendolino', db_list)"
      ],
      "metadata": {
        "colab": {
          "base_uri": "https://localhost:8080/"
        },
        "id": "LuvBgKvhF_xy",
        "outputId": "ba167d89-8428-4ef8-81c5-415d90f016d4"
      },
      "execution_count": null,
      "outputs": [
        {
          "output_type": "stream",
          "name": "stdout",
          "text": [
            "Korvín, Jan Daniel\n",
            "Jedou, jedou! , 1890 \n",
            "\n",
            "Jedou, jedou, jedou silnicemi,\n",
            "na trh jedou s těmi třemi. –\n",
            "\n",
            "\n",
            "score: 0.39801281490336293 \n",
            "\n",
            "------------------------------\n",
            "Kalus, Josef\n",
            "Příjezd do Terstu. , 1903 \n",
            "\n",
            "Supě a duně\n",
            "vlak zastavuje\n",
            "v nádraží terstském.\n",
            "\n",
            "\n",
            "score: 0.37187368524329156 \n",
            "\n",
            "------------------------------\n",
            "Machar, Josef Svatopluk\n",
            "ÚSPORNÁ KOMISE , 1935 \n",
            "\n",
            "Jejich auta tedy! – Jakže mají\n",
            "mezi luzou jezdit po tramvaji? –\n",
            "\n",
            "\n",
            "score: 0.365386610928667 \n",
            "\n",
            "------------------------------\n",
            "Klášterský, Antonín\n",
            "CESTOVNÍ PÍSEŇ. , 1894 \n",
            "\n",
            "Jedeme, ne, letíme\n",
            "dusajícím vlakem,\n",
            "jedeme a nevíme,\n",
            "kam dřív se svým zrakem.\n",
            "\n",
            "\n",
            "score: 0.2699388722749714 \n",
            "\n",
            "------------------------------\n",
            "Machar, Josef Svatopluk\n",
            "VE VLAKU , 1900 \n",
            "\n",
            "Dveře třískají, hluk stichá,\n",
            "povely zní, dlouhý pískot,\n",
            "trhnutí, stroj těžce dýchá –\n",
            "vlak vyletěl z nádraží.\n",
            "\n",
            "\n",
            "score: 0.2519663057082689 \n",
            "\n",
            "------------------------------\n",
            "Machar, Josef Svatopluk\n",
            "VE VLAKU. , 1927 \n",
            "\n",
            "Dveře třískají, hluk ztichá,\n",
            "povely zní, dlouhý pískot,\n",
            "trhnutí, stroj těžce dýchá –\n",
            "vlak vyletěl z nádraží.\n",
            "\n",
            "\n",
            "score: 0.2519663057082689 \n",
            "\n",
            "------------------------------\n",
            "Kamarýt, Josef Vlastimil\n",
            "734. , 1834 \n",
            "\n",
            "Za vozem kdo zapřáhne,\n",
            "špatně náklad potáhne.\n",
            "\n",
            "\n",
            "score: 0.24194637510381398 \n",
            "\n",
            "------------------------------\n",
            "Neumann, Stanislav Kostka\n",
            "BŘEZEN , 1927 \n",
            "\n",
            "Dnes ráno venku na nádraží\n",
            "omládly nárazy, sykoty, hvizdy,\n",
            "poněvadž v zahradě kos ladil flétnu\n",
            "a lokomotivy vzpomněly si na veselé jízdy.\n",
            "\n",
            "\n",
            "score: 0.24099445120795515 \n",
            "\n",
            "------------------------------\n",
            "Neumann, Stanislav Kostka\n",
            "XII  BŘEZEN , 1984 \n",
            "\n",
            "Dnes ráno venku na nádraží\n",
            "omládly nárazy, sykoty, hvizdy,\n",
            "poněvadž v zahradě kos ladil flétnu,\n",
            "a lokomotivy vzpomněly si na veselé jízdy.\n",
            "\n",
            "\n",
            "score: 0.24099445120795515 \n",
            "\n",
            "------------------------------\n",
            "Machar, Josef Svatopluk\n",
            "Z VLAKU. , 1894 \n",
            "\n",
            "Vlak písk’ a jedem’ v stanici.\n",
            "Jakási babička cupe\n",
            "s venkovským modrým uzlíkem\n",
            "a leze v vedlejší kupé.\n",
            "\n",
            "\n",
            "score: 0.2362562235736641 \n",
            "\n",
            "------------------------------\n"
          ]
        }
      ]
    },
    {
      "cell_type": "markdown",
      "source": [
        "# Příprava práce\n",
        "\n"
      ],
      "metadata": {
        "id": "3BTEDyXZFL_-"
      }
    },
    {
      "cell_type": "markdown",
      "source": [
        "## Word2Vec model\n",
        "\n",
        "Pro sémantickou analýzu pomocí knihovny Gensim je třeba použit Word2Vec model natrénovaný na korpusu zvoleného jazyka. Teoreticky se takový model dá natrénovat také pomocí dané knihovny, ale já jsem se rozhodl pro úsporu času použit již hotový model. Ovšem nalézt Word2Vec model češtiny nebylo jednoduché na rozdíl od modelů \"větších\" jazyku, několik jich se mi však najít podařilo. V této práci byl použit model natrénovaný na korpusu české Wikipedie v roce 2020.\n",
        "\n",
        "Tento model je dostupný z odkazu: https://zenodo.org/record/3975038#.Y72FC3bMLIX\n",
        "\n",
        "Nastavení použité při trénování modelu:\n",
        "\n",
        "*   Dimenze vektorového prostoru - 400\n",
        "*   Velikost okna - 10\n",
        "*   Minimální frekvence slova - 10"
      ],
      "metadata": {
        "id": "NYy1uJCbqKCa"
      }
    },
    {
      "cell_type": "markdown",
      "source": [
        "## Gensim\n",
        "\n",
        "(Tady pro úplnost částečně opakuji obsah příslušné přednášky) \n",
        "\n",
        "Knihovna Gensim poskytuje mnoho užitečných nástrojů pro práci s embeddingy slov."
      ],
      "metadata": {
        "id": "Vkwp0-WKWrc6"
      }
    },
    {
      "cell_type": "markdown",
      "source": [
        "Například funkce *most_similar* vypisuje nejvíce shodná slova podle zadaných parametrů. Sémantická podobnost se počítá jako *kosinová podobnost* (cosine similarity) dvou vektorů.\n",
        "\n",
        "Pro jedno slovu na vstupu program vypíše významově blízká slova."
      ],
      "metadata": {
        "id": "WvhaNrFCpimh"
      }
    },
    {
      "cell_type": "code",
      "source": [
        "model.wv.most_similar('meloun')"
      ],
      "metadata": {
        "id": "qrNh_m3Z8WtV",
        "colab": {
          "base_uri": "https://localhost:8080/"
        },
        "outputId": "265f6968-62a8-4bef-8c36-d0ab7f5b94e6"
      },
      "execution_count": null,
      "outputs": [
        {
          "output_type": "execute_result",
          "data": {
            "text/plain": [
              "[('okurka', 0.9214264154434204),\n",
              " ('cukrový', 0.9042431116104126),\n",
              " ('lilek', 0.8957675695419312),\n",
              " ('mrkev', 0.891090989112854),\n",
              " ('brokolice', 0.8891719579696655),\n",
              " ('avokádo', 0.8850060701370239),\n",
              " ('grapefruit', 0.88294517993927),\n",
              " ('fenykl', 0.8805489540100098),\n",
              " ('tykev', 0.8802549839019775),\n",
              " ('celer', 0.8799270391464233)]"
            ]
          },
          "metadata": {},
          "execution_count": 57
        }
      ]
    },
    {
      "cell_type": "markdown",
      "source": [
        "Při zadání více slov lze specifikovat jejich vztah ekvivalentní matematickým znaménkům plus a minus u její vektorové podoby.\n",
        "\n",
        "Např. **Praha + Rusko - Česko = Moskva**"
      ],
      "metadata": {
        "id": "ufQ0snwgYL2A"
      }
    },
    {
      "cell_type": "code",
      "source": [
        "model.wv.most_similar(positive=['praha', 'rusko'], negative = ['česko'], topn=1)"
      ],
      "metadata": {
        "colab": {
          "base_uri": "https://localhost:8080/"
        },
        "id": "I3yFWZwWXtvu",
        "outputId": "02e9aeda-c3ba-4d67-e66e-ce4697076fd9"
      },
      "execution_count": null,
      "outputs": [
        {
          "output_type": "execute_result",
          "data": {
            "text/plain": [
              "[('moskva', 0.5774098634719849)]"
            ]
          },
          "metadata": {},
          "execution_count": 67
        }
      ]
    },
    {
      "cell_type": "markdown",
      "source": [
        "Nebo **královna + muž - žena = král**"
      ],
      "metadata": {
        "id": "BCYzBuvDFVNp"
      }
    },
    {
      "cell_type": "code",
      "source": [
        "model.wv.most_similar(positive=['královna', 'muž'], negative = ['žena'], topn=1)"
      ],
      "metadata": {
        "colab": {
          "base_uri": "https://localhost:8080/"
        },
        "id": "z5CCydvvX9vO",
        "outputId": "435a6648-3a7e-4c52-9057-ee9476298540"
      },
      "execution_count": null,
      "outputs": [
        {
          "output_type": "execute_result",
          "data": {
            "text/plain": [
              "[('král', 0.6102490425109863)]"
            ]
          },
          "metadata": {},
          "execution_count": 68
        }
      ]
    },
    {
      "cell_type": "markdown",
      "source": [
        "Také se dá spočítat míra podobnosti dvou slov a výsledek můžeme odůvodnit i logicky (ne vždy, ale většinou).\n",
        "\n",
        "\n"
      ],
      "metadata": {
        "id": "9LqF4uKJY0N9"
      }
    },
    {
      "cell_type": "code",
      "source": [
        "pairs = [\n",
        "    ('auto', 'vozidlo'),    # auto je konkretnim pripadem vozidla\n",
        "    ('auto', 'škodovka'),   # skodovka je konkretnim pripadem auta\n",
        "    ('auto', 'minivan'),    # take druh auta\n",
        "    ('auto', 'letadlo'),    # take dopravni prostredek a tez ma kola\n",
        "    ('auto', 'vzducholoď'), # trosku neco jineho ale porad dopravni prostrdek\n",
        "    ('auto', 'meloun'),     # vysledek porovnani auta a melounu je ocividny \n",
        "]\n",
        "for w1, w2 in pairs:\n",
        "    print((w1, w2, model.wv.similarity(w1, w2).round(2)))"
      ],
      "metadata": {
        "id": "btgQ3f369OEG",
        "colab": {
          "base_uri": "https://localhost:8080/"
        },
        "outputId": "6389ca57-bc3e-4278-d865-534e0c765e5d"
      },
      "execution_count": null,
      "outputs": [
        {
          "output_type": "stream",
          "name": "stdout",
          "text": [
            "('auto', 'vozidlo', 0.63)\n",
            "('auto', 'škodovka', 0.41)\n",
            "('auto', 'minivan', 0.39)\n",
            "('auto', 'letadlo', 0.3)\n",
            "('auto', 'vzducholoď', 0.18)\n",
            "('auto', 'meloun', -0.07)\n"
          ]
        }
      ]
    },
    {
      "cell_type": "markdown",
      "source": [
        "Určitá míra sémantické souvislosti je i mezi fyzickými a abstraktními entitami."
      ],
      "metadata": {
        "id": "e5FxX7WMc_iv"
      }
    },
    {
      "cell_type": "code",
      "source": [
        "pairs = [\n",
        "    ('auto', 'pohodlí'), \n",
        "    ('auto', 'radost'),\n",
        "    ('auto', 'jistota'),\n",
        "    ('auto', 'strach'),\n",
        "    ('auto', 'hlad'),    \n",
        "    ('auto', 'žárlivost')\n",
        "]\n",
        "for w1, w2 in pairs:\n",
        "    print((w1, w2, model.wv.similarity(w1, w2).round(2)))"
      ],
      "metadata": {
        "id": "xbPsHuWL-QUM",
        "colab": {
          "base_uri": "https://localhost:8080/"
        },
        "outputId": "e1821a86-8a75-490c-f047-cb5d72379848"
      },
      "execution_count": null,
      "outputs": [
        {
          "output_type": "stream",
          "name": "stdout",
          "text": [
            "('auto', 'pohodlí', 0.3)\n",
            "('auto', 'radost', 0.2)\n",
            "('auto', 'jistota', 0.15)\n",
            "('auto', 'strach', 0.18)\n",
            "('auto', 'hlad', 0.08)\n",
            "('auto', 'žárlivost', 0.05)\n"
          ]
        }
      ]
    },
    {
      "cell_type": "markdown",
      "source": [
        "## Korpus\n",
        "\n",
        "Korpus českých básní pro tuto práci jsem vytvořil pomocí dat projektu VersoTym https://versologie.cz/v2/web_content/\n",
        "\n",
        "Složení korpusu VersoTym:\n",
        "\n",
        "*   1 689 básnických sbírek\n",
        "*   76 699 básní\n",
        "*   2 664 989 veršů\n",
        "*   14 592 037 slov\n",
        "\n",
        "Korpus je složen převážně z básní konce 19. a počátku 20. století.\n",
        "\n",
        "![image.png](data:image/png;base64,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)"
      ],
      "metadata": {
        "id": "K4VMa2nLGwXG"
      }
    },
    {
      "cell_type": "markdown",
      "source": [
        "Z GitHubu projektu https://github.com/versotym/corpusCzechVerse jsem stáhl více než tisíc JSON souborů, z nichž každý je sbírkou básní. Daný korpus je lemmatizovaný, foneticky, morfologicky, metricky a stroficky anotovaný, obsahuje tedy hodně informací užitečných pro jiné výzkumy, ale zbytečné v rámci této práce. "
      ],
      "metadata": {
        "id": "33NHXZnoSoHq"
      }
    },
    {
      "cell_type": "code",
      "source": [
        "import os\n",
        "import json"
      ],
      "metadata": {
        "id": "oBwAOOWgR_jq"
      },
      "execution_count": null,
      "outputs": []
    },
    {
      "cell_type": "code",
      "source": [
        "files_list = os.listdir('drive/MyDrive/Poems')"
      ],
      "metadata": {
        "id": "_0Afj8s_TyuG"
      },
      "execution_count": null,
      "outputs": []
    },
    {
      "cell_type": "markdown",
      "source": [
        "Při parcingu JSON souborů jsem nechal pouze tyto informace:\n",
        "\n",
        "\n",
        "\n",
        "*   Jméno autora\n",
        "*   Název básně\n",
        "*   Rok vydání\n",
        "*   Text básně\n",
        "*   Bag of words - pouze lemmata autosémantických slov (https://www.czechency.org/slovnik/AUTOS%C3%89MANTIKUM) - substantiv, adjektiv, sloves a adverbií, vyjma slovesa *být*. \n",
        "\n",
        "Kromě toho jsem odstranil duplicity, kterých v původním korpusu bylo zhruba 20-30 tisíc.\n",
        "\n",
        "Data jsem se rozhodl uložit jako seznam jednotek - bloků, ekvivalentních slokám. "
      ],
      "metadata": {
        "id": "ZK9TXteMVxBh"
      }
    },
    {
      "cell_type": "code",
      "source": [
        "poem_blocks = [] # vysledny seznam zpracovanych slok\n",
        "texts = []       # docasny seznam pouze textu pro ucel odstraneni duplicit\n",
        "for json_file in files_list:\n",
        "    json_text = json.load(open('drive/MyDrive/Poems/' + json_file))\n",
        "    for text in json_text:\n",
        "        for poem in text['body']:\n",
        "            bag = []\n",
        "            poem_text = []\n",
        "            for block in poem:\n",
        "                poem_text.append(block['text'])\n",
        "                for word in block['words']:\n",
        "                    if word['morph'][0] in ['N','A','V','D'] and word['lemma'] != 'být':\n",
        "                        bag.append(word['lemma'])\n",
        "            poem_text = '\\n'.join(poem_text)\n",
        "            \n",
        "            if poem_text not in texts:\n",
        "                texts.append(poem_text)\n",
        "                new_block = {'bag':bag, \n",
        "                             'text':poem_text,\n",
        "                             'author_name': text['p_author']['name'], \n",
        "                             'poem_name': text['biblio']['p_title'],\n",
        "                             'date': text['biblio']['year']}\n",
        "                poem_blocks.append(new_block)"
      ],
      "metadata": {
        "id": "tykAIz6tUPGs"
      },
      "execution_count": null,
      "outputs": []
    },
    {
      "cell_type": "code",
      "source": [
        "print(len(poem_blocks))"
      ],
      "metadata": {
        "id": "ZHxD3JvXaMgD"
      },
      "execution_count": null,
      "outputs": []
    },
    {
      "cell_type": "markdown",
      "source": [
        "Seznam můžeme uložit jako JSON soubor. Oproti původnímu korpusu daný soubor beze zbytečných informací je cca 10 krát menší (242Mb)."
      ],
      "metadata": {
        "id": "RHIzv7n8YcpR"
      }
    },
    {
      "cell_type": "markdown",
      "source": [
        "## Data"
      ],
      "metadata": {
        "id": "MXjm0pki2_Ty"
      }
    },
    {
      "cell_type": "markdown",
      "source": [
        "Sémantiku každé sloky můžeme vyjádřit jako matici (N-rozměrný NumPy Array) složenou z vektorů jednotlivých slov."
      ],
      "metadata": {
        "id": "hhI2ccqgaw1X"
      }
    },
    {
      "cell_type": "code",
      "source": [
        "def bag_to_matrix(bag):\n",
        "        mx = []\n",
        "        for word in bag:\n",
        "            try:\n",
        "                mx.append(model.wv[word])\n",
        "            except:\n",
        "                pass # pokud vokabular modelu neobsahuje dane slovo\n",
        "        return np.vstack(mx) if len(mx) > 0 else np.array([])"
      ],
      "metadata": {
        "id": "8Faj7abdaf9S"
      },
      "execution_count": null,
      "outputs": []
    },
    {
      "cell_type": "markdown",
      "source": [
        "Abychom nemuseli pokaždé vypočítávat 350 tisíc matic za podmínky, že náš korpus je pořád stejný, je rozumné vypočítat je jednou předem a uložit také do souboru.  "
      ],
      "metadata": {
        "id": "16quRlLocPGa"
      }
    },
    {
      "cell_type": "code",
      "source": [
        "poems_json = json.load(open('drive/MyDrive/Word2Vec/data.json'))\n",
        "\n",
        "matrices_from_json = []\n",
        "for block in poems_json:\n",
        "    matrices_from_json.append(bag_to_matrix(block['bag']))"
      ],
      "metadata": {
        "id": "szlK9rCSdKyB"
      },
      "execution_count": null,
      "outputs": []
    },
    {
      "cell_type": "markdown",
      "source": [
        "Teď nastává další problém. Seznam tak rozsáhlého počtu matic je poměrně velký, abychom ho mohli mít v paměti. Prostředí Colab se restartuje, když celkový objem dat přesahuje velikost RAM. Řešení - uložit jako zmapovaný soubor na disku a vyhledávat po jednotlivých chuncích. Pro tento účel jsem použil knihovnu Zarr."
      ],
      "metadata": {
        "id": "ybF7DwuPdn_J"
      }
    },
    {
      "cell_type": "code",
      "source": [
        "!pip install zarr\n",
        "import zarr\n",
        "import numcodecs"
      ],
      "metadata": {
        "id": "uP2OPUkTfaGz"
      },
      "execution_count": null,
      "outputs": []
    },
    {
      "cell_type": "code",
      "source": [
        "store = zarr.DBMStore('database.db')\n",
        "z = zarr.zeros(shape=(352490,), chunks=(1000,), dtype='object', object_codec=numcodecs.Pickle(), store=store, overwrite=True)\n",
        "z[:] = data # data - kombinace souboru korpusu s pridanymi maticemi pro kazdou sloku\n",
        "store.close() "
      ],
      "metadata": {
        "id": "MTfbMJsqfcJi"
      },
      "execution_count": null,
      "outputs": []
    },
    {
      "cell_type": "markdown",
      "source": [
        "## Vyhledávání \n",
        "\n",
        "Princip vyhledávání je založen na vytvoření vektoru (případně matice) odpovídajícího hledanému výrazu a následujícím porovnání se všemi maticemi v databázi.\n",
        "\n",
        "Míra podobnosti dvou výrazu je součtem součinu jejich matic děleno součtem velikostí obou matic. Násobení dekadickým logaritmem velikosti původní matice ukazuje lepší výsledky."
      ],
      "metadata": {
        "id": "PNTY3szoDfJy"
      }
    },
    {
      "cell_type": "code",
      "source": [
        "def semantic_similarity_fast_log(mx1, mx2):\n",
        "        if mx1.size > 0 and mx2.size > 0:\n",
        "            return np.sum(np.matmul(mx1, mx2.T)) * np.log10(mx2.size) / (mx2.size + mx1.size)\n",
        "        else:\n",
        "            return 0.0"
      ],
      "metadata": {
        "id": "A3LxF5PGDlK0"
      },
      "execution_count": null,
      "outputs": []
    },
    {
      "cell_type": "code",
      "source": [
        "def search_in_poems(search, blocks):\n",
        "    search_list = search.split()\n",
        "    result = [] # do seznamu vysledku zapisujeme informace o slokach \n",
        "                # s jejich mirou semanticke podobnosti vuci hledanemu vyrazu\n",
        "    for block in blocks:\n",
        "        result.append({'text': block['text'], \n",
        "                    'author_name': block['author_name'], \n",
        "                    'poem_name': block['poem_name'], \n",
        "                    'date': block['date'], \n",
        "                    'score': semantic_similarity_fast_log(bag_to_matrix(search_list), \n",
        "                                                            block['matrix'])})\n",
        "    print_results(result)"
      ],
      "metadata": {
        "id": "fkNJm1B2HJ9q"
      },
      "execution_count": null,
      "outputs": []
    },
    {
      "cell_type": "code",
      "source": [
        "# tato funkce serazuje seznam dle jejich skoru, pak vypisuje 10 nejlepsich\n",
        "\n",
        "def print_results(result):\n",
        "    newlist = sorted(result, key=lambda d: d['score'], reverse=True) \n",
        "    for index, block in enumerate(newlist):\n",
        "        if index == 10:\n",
        "            break\n",
        "        print(block['author_name'])\n",
        "        print(block['poem_name'], ',', block['date'], '\\n')\n",
        "        print(block['text'])\n",
        "        print('\\n')\n",
        "        print('score:', block['score'], '\\n')\n",
        "        print('-'*30)"
      ],
      "metadata": {
        "id": "sq7CFpvMHOmx"
      },
      "execution_count": null,
      "outputs": []
    },
    {
      "cell_type": "markdown",
      "source": [
        "# Optimizace\n",
        "\n",
        "Při zpracování databáze matic se setkáváme s poměrně složitou optimizační úlohou. Pro uložení dat používáme buď rychlou, ale omezenou RAM (v tomto případě přicházíme o úplnost dat. max 250k v Colabu), nebo skoro neomezený, ale výrazně pomalejší disk.\n",
        "\n",
        "Tabulka níže znázorňuje vztah velikosti použité databáze a rychlosti analýzy v sekundách v závislosti na použité metodě (seznam v RAM nebo Zarr soubor)."
      ],
      "metadata": {
        "id": "Ewq1KJ4dSGr4"
      }
    },
    {
      "cell_type": "markdown",
      "source": [
        "![image.png](data:image/png;base64,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)"
      ],
      "metadata": {
        "id": "oMecfGJ-TISi"
      }
    },
    {
      "cell_type": "markdown",
      "source": [
        "Způsoby, které mě napadly, jak se daná úloha dá optimizovat:\n",
        "\n",
        "\n",
        "*   Jiná velikost chunků Zarr. Menší počet větších chunku pomůže zrychlit analýzu. Nejde však o výrazné zlepšení.\n",
        "\n",
        "*   Použití jiného modelu s jinou rozměrností vektorů. Počet dimenzí 100 oproti 400 zmenší potřebný prostor o 4krát.\n",
        "\n",
        "*   Použití modelu doc2vec místo word2vec.\n",
        "\n",
        "*   Překódovat matic do jiného úspornějšího formátu.\n",
        "\n",
        "\n",
        "\n",
        "\n"
      ],
      "metadata": {
        "id": "wCIswWYPps_T"
      }
    },
    {
      "cell_type": "markdown",
      "source": [
        "# Výsledky\n",
        "\n",
        "Tady uvádím různé zajímavé příklady a kuriozity, které se mi podařilo najít pomocí sémantické analýzy korpusu básní, a zároveň znázorňující princip algoritmu.\n",
        "\n",
        "Zajímavé je vyhledávat skutečnosti, které se pravděpodobně nevyskytují v korpusu. Například tykající se současnosti, vlastní jména, značky apod."
      ],
      "metadata": {
        "id": "ZY-Jbt8-rn26"
      }
    },
    {
      "cell_type": "markdown",
      "source": [
        "## Zajímavosti. Skutečnosti ze současnosti"
      ],
      "metadata": {
        "id": "zssNgBK86cva"
      }
    },
    {
      "cell_type": "code",
      "source": [
        "search_in_poems('internet', db_list)"
      ],
      "metadata": {
        "id": "gqA1g7vfs2ph"
      },
      "execution_count": null,
      "outputs": []
    },
    {
      "cell_type": "markdown",
      "source": [
        "**Machar, Josef Svatopluk\n",
        "JISTÝ POKROK , 1935**\n",
        "\n",
        "Reklamy všeho: osobnosti,\n",
        "\n",
        "věd, uměn, kšeftů, praktik všech,\n",
        "\n",
        "pa-cností našich, velikostí\n",
        "\n",
        "a reklamy pak reklam těch.\n",
        "\n",
        "\n",
        "**score: 0.5282242806767489** \n",
        "\n",
        "---\n",
        "\n",
        "**Zeyer, Julius\n",
        "PIA DE’TOLOMEI. , 1892**\n",
        "\n",
        "\n",
        "jí odpověděl hlasem hromovým,\n",
        "\n",
        "„je v síti už, a běda, běda jí!“\n",
        "\n",
        "\n",
        "**score: 0.4586370397115392**\n",
        "\n",
        "---\n",
        "\n",
        "\n",
        "\n",
        "\n"
      ],
      "metadata": {
        "id": "D4rlnSW6tKRk"
      }
    },
    {
      "cell_type": "code",
      "source": [
        "search_in_poems('mobil', db_list)"
      ],
      "metadata": {
        "id": "d4K8l-tVuKN2"
      },
      "execution_count": null,
      "outputs": []
    },
    {
      "cell_type": "markdown",
      "source": [
        "**Neruda, \n",
        "Jan \n",
        "Z tábora konservativního , 1951**\n",
        "\n",
        "Co koupil jsem si každý rok,\n",
        "\n",
        "též letos sobě koupím,\n",
        "\n",
        "a byl-li hlup jsem každý rok,\n",
        "\n",
        "též letos budu hloupým!\n",
        "\n",
        "\n",
        "**score: 0.34395199326540743** \n",
        "\n",
        "---\n",
        "\n",
        "**Racek, Adolf \n",
        "Ten nástroj nekoupím, , 1902**\n",
        "\n",
        "Ten nástroj nekoupím, \n",
        "\n",
        "ten nástroj ukradnu!\n",
        "\n",
        "\n",
        "**score: 0.36809631066433507**\n",
        "\n",
        "---"
      ],
      "metadata": {
        "id": "QWsMrqqqu3FB"
      }
    },
    {
      "cell_type": "code",
      "source": [
        "search_in_poems('pračka', db_list)"
      ],
      "metadata": {
        "id": "1F_l3ESYv6Se"
      },
      "execution_count": null,
      "outputs": []
    },
    {
      "cell_type": "markdown",
      "source": [
        "**Vinařický, Karel Alois\n",
        "Zvuky vodní. , 1845**\n",
        "\n",
        "Při ohni voda se vaří,\n",
        "\n",
        "Kypí a paří,\n",
        "\n",
        "V nádobě klochtá.\n",
        "\n",
        "Pradlena ve vodě šplochtá,\n",
        "\n",
        "Prádlo máchajíc, vodou cáká,\n",
        "\n",
        "Z necek mydlina skáká.\n",
        "\n",
        "\n",
        "**score: 0.24407946760390173**\n",
        "\n",
        "---"
      ],
      "metadata": {
        "id": "7RVI1oPS0pdx"
      }
    },
    {
      "cell_type": "markdown",
      "source": [
        "## Zajímavosti. Osobnosti ze současnosti"
      ],
      "metadata": {
        "id": "R_3WuFtq1M6Q"
      }
    },
    {
      "cell_type": "code",
      "source": [
        "search_in_poems('beyoncé', db_list)"
      ],
      "metadata": {
        "id": "Y6g0NUO81dvp"
      },
      "execution_count": null,
      "outputs": []
    },
    {
      "cell_type": "markdown",
      "source": [
        "**Racek, Adolf\n",
        "Budeme tančit, , 1902**\n",
        "\n",
        "Budeme zpívat,\n",
        "\n",
        "bez smyslu zpívat,\n",
        "\n",
        "vysoko zpívat,\n",
        "\n",
        "bez konce zpívat!\n",
        "\n",
        "\n",
        "**score: 0.6059528486236053**\n",
        "\n"
      ],
      "metadata": {
        "id": "iSTLx4U45BbU"
      }
    },
    {
      "cell_type": "code",
      "source": [
        "search_in_poems('gosling', db_list)"
      ],
      "metadata": {
        "id": "U3HLVPxw5HnE"
      },
      "execution_count": null,
      "outputs": []
    },
    {
      "cell_type": "markdown",
      "source": [
        "**z Wojkowicz, Jan\n",
        "DRAMA ŠAŠKOVO. (II.) , 1915** \n",
        "\n",
        "Hraju snad roli šaška –\n",
        "\n",
        "ale jsem Shakespearův šašek:\n",
        "\n",
        "Jen srdce je blázen –\n",
        "\n",
        "ale rozum, ale rozum – –\n",
        "\n",
        "\n",
        "**score: 0.19922014905329014** "
      ],
      "metadata": {
        "id": "c8WN0-fp5xWz"
      }
    },
    {
      "cell_type": "code",
      "source": [
        "search_in_poems('putin', db_list)"
      ],
      "metadata": {
        "id": "km3LSqSo5yVM"
      },
      "execution_count": null,
      "outputs": []
    },
    {
      "cell_type": "markdown",
      "source": [
        "**Machar, Josef Svatopluk\n",
        "VÍDEŇSKÝ KONGRES. , 1921** \n",
        "\n",
        "I ruský císař? Také ruský císař,\n",
        "\n",
        "\n",
        "**score: 0.8164775529543226**\n",
        "\n",
        "---\n",
        "\n",
        "**Machar, Josef Svatopluk\n",
        "DVA KOZÁCI. , 1921** \n",
        "\n",
        "– Vždyť vidíš, nemá. Car náš se s ním vede,\n",
        "\n",
        "jak moh by jít car pravoslavný s čertem? –\n",
        "\n",
        "\n",
        "**score: 0.7035954962675044**"
      ],
      "metadata": {
        "id": "vsBd1FSQ6DHL"
      }
    },
    {
      "cell_type": "code",
      "source": [
        "search_in_poems('babiš', db_list)"
      ],
      "metadata": {
        "id": "zOWyYIXO6QJz"
      },
      "execution_count": null,
      "outputs": []
    },
    {
      "cell_type": "markdown",
      "source": [
        "**Machar, Josef Svatopluk\n",
        "VLÁDA , 1935**\n",
        "\n",
        "Ministrpresident v posteli,\n",
        "\n",
        "ministr financí utek,\n",
        "\n",
        "ministr jeden se veselí,\n",
        "\n",
        "obé že libý je skutek.\n",
        "\n",
        "\n",
        "**score: 0.6809947190724027** \n",
        "\n",
        "---\n",
        "\n",
        "**Kamarýt, Josef Vlastimil 231. , 1834**\n",
        "\n",
        "Co sám sobě uděláš,\n",
        "\n",
        "za to peněz nepodáš.\n",
        "\n",
        "\n",
        "**score: 0.6420638036565316**\n",
        "\n",
        "---\n",
        "\n",
        "**Gellner, František\n",
        "KRÁDEŽ , 1926**\n",
        "\n",
        "Věc přišla k soudu. No, jakáž pomoc!\n",
        "\n",
        "K soudu šel za mě můj táta.\n",
        "\n",
        "Ten umí lhát! A na výpomoc\n",
        "\n",
        "vzal ještě advokáta.\n",
        "\n",
        "\n",
        "**score: 0.5937962364161368**\n",
        "\n",
        "---"
      ],
      "metadata": {
        "id": "bOsm-8Jf6uq6"
      }
    },
    {
      "cell_type": "markdown",
      "source": [
        "## Závěr\n",
        "\n",
        "Algoritmus *většinou* funguje docela spolehlivě, můžeme pozorovat, jak rozpoznává sémantické souvislosti a nachází asociace a významové vztahy tam, kde určitě původně nebyly. I když je vyhledávání omezeno na značně časově a  prostorově ohraničenou doménu českých básní.\n",
        "\n",
        "Můžeme algoritmus využit i přímo pro vyhledání básní na určité téma. Např. *o jaře, nebo dešti, matce, jídle, cestování* atd. \n",
        "\n",
        "Poněkud hůře funguje vyhledávání abstraktních myšlenek nebo pocitů, takových jak *smutek, zrada, žárlivost* atd. Předpokládám, že toto je dáno korpusem, na kterém je natrénován model. Články na Wikipedii jsou stylově vzdálenější od básní, nejsou v nich zastoupené mnohé sémantické kontexty, které by umožnili modelu lépe \"pochopit\" význam slov, zvláště těch abstraktních. \n",
        "\n",
        "**Návrhy pro vylepšení programu:**\n",
        "\n",
        "1.   Natrénovat model na jiném korpusu. Nejlépe obsahujícím texty co nejvíce různých stylů, žánrů atd. Např. vyvážené korpusy řady SYN.\n",
        "2.   Pro trénování modelu použit výhradně lemmata tak, aby pro všechny tvary jednoho slova existoval pouze jeden sémantický vektor. Daná změna by měla značně zlepšit kvalitu vyhledávání, protože v čím více možných kontextech bude zastoupeno slovo, tím přesněji bude určen jeho význam.\n",
        "Model natrénovaný na nelemmatizovaném korpusu považuje každý tvar za samostatné slovo s odlišným, ač podobným významem.\n",
        "3.   Při tvoření BOW (bag of words) použit každé slovo z textu pouze jednou. V básních jsou častá opakování, která výrazně mění \"významový profil\" celé sloky, silně ovlivňují hodnoty ve výsledné matici významu.\n",
        "4.   Vyzkoušet jiný typ modelu - doc2vec, který umožňuje vytvořit sémantický vektor přímo z celého dokumentu (textu). Je dost možné, že takový přístup bude rozumnější a dokáže vyřešit i optimizační problémy vyvolané nadprůměrnou velikostí databáze matic. Kromě toho, pravděpodobně bude účinnější při vyhledávání významu jednotlivých textu.\n",
        "\n"
      ],
      "metadata": {
        "id": "g1qDwylAXSXd"
      }
    },
    {
      "cell_type": "markdown",
      "source": [
        "# Zdroje\n",
        "\n",
        "*   Пирожки в дистрибутивной семантике / Хабр. [online]. Copyright © 2006 [cit. 22.01.2023]. Dostupné z: https://habr.com/ru/post/275913/\n",
        "\n",
        "*   KČV :: VersoTým . versologie.cz [online]. Copyright © 2023 Petr Plecháč [cit. 22.01.2023]. Dostupné z: https://versologie.cz/v2/web_content/corpus.php?lang=cz\n",
        "\n",
        "*   Documentation — gensim. Radim Řehůřek: Machine learning consulting [online]. Copyright © Copyright 2009 [cit. 22.01.2023]. Dostupné z: https://radimrehurek.com/gensim/auto_examples/index.html##documentation\n",
        "\n",
        "*   AUTOSÉMANTIKUM | Nový encyklopedický slovník češtiny. Nový encyklopedický slovník češtiny [online]. Copyright © Masarykova univerzita, Brno 2012 [cit. 22.01.2023]. Dostupné z: https://www.czechency.org/slovnik/AUTOS%C3%89MANTIKUM\n",
        "\n",
        "*   Tutorial — zarr 2.13.6 documentation. [online]. Copyright © Copyright 2022, Zarr Developers [cit. 22.01.2023]. Dostupné z: https://zarr.readthedocs.io/en/stable/tutorial.html#\n",
        "\n",
        "*   NumPy Reference — NumPy v1.24 Manual. NumPy [online]. Copyright © Copyright 2008 [cit. 22.01.2023]. Dostupné z: https://numpy.org/doc/stable/reference/index.html\n",
        "\n",
        "\n"
      ],
      "metadata": {
        "id": "SLKJJLEtK0Q7"
      }
    }
  ]
}